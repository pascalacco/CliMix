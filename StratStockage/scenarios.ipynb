{
 "cells": [
  {
   "cell_type": "code",
   "execution_count": 1,
   "id": "5834a7cc-075b-4b14-b996-ca3a0f4f726d",
   "metadata": {
    "ExecuteTime": {
     "end_time": "2024-03-28T16:03:44.234667Z",
     "start_time": "2024-03-28T16:03:43.669593Z"
    }
   },
   "outputs": [
    {
     "name": "stderr",
     "output_type": "stream",
     "text": [
      "BokehDeprecationWarning: 'tile_providers module' was deprecated in Bokeh 3.0.0 and will be removed, use 'add_tile directly' instead.\n"
     ]
    }
   ],
   "source": [
    "import numpy as np\n",
    "import scipy as scp\n",
    "import pylab as pyl\n",
    "import pandas as pd\n",
    "import bokeh as bk\n",
    "import bokeh.plotting as bkp\n",
    "\n",
    "import pandas_bokeh\n",
    "#pandas_bokeh.output_notebook()"
   ]
  },
  {
   "cell_type": "markdown",
   "id": "8652c4ff-d00c-439e-84e4-45a41d829572",
   "metadata": {},
   "source": [
    "# Scenario de Charles et Marion"
   ]
  },
  {
   "cell_type": "code",
   "execution_count": 2,
   "id": "ac00097f-b80f-467f-bdbc-21974769c9e5",
   "metadata": {
    "ExecuteTime": {
     "end_time": "2024-03-28T10:17:22.295672Z",
     "start_time": "2024-03-28T10:17:20.860728Z"
    }
   },
   "outputs": [],
   "source": [
    "#Definition des scenarios (Negawatt, ADEME, RTE)\n",
    "ADEME2050_marion = pd.read_csv(\"demand2050_ADEME.csv\", header=None)\n",
    "ADEME2050_marion.columns = [\"heures\", \"demande\"]\n",
    "\n",
    "RTE = pd.read_csv(\"demand2050_RTE.csv\", header=None)\n",
    "RTE.columns = [\"heures\", \"demande\"]\n",
    "\n",
    "Negawatt = pd.read_csv(\"demand2050_negawatt.csv\", header=None)\n",
    "Negawatt.columns = [\"heures\", \"demande\"]\n",
    "\n",
    "T1 = pd.read_csv(\"T1.csv\", header=None, sep=';', decimal=',')\n",
    "T1.columns = [\"heures\", \"d2025\", \"d2026\", \"d2027\" ,\"d2028\", \"d2029\"]\n",
    "\n",
    "T2 = pd.read_csv(\"T2.csv\", header=None, sep=';', decimal=',')\n",
    "T2.columns = [\"heures\", \"d2030\", \"d2031\", \"d2032\" ,\"d2033\", \"d2034\"]\n",
    "\n",
    "T3 = pd.read_csv(\"T3.csv\", header=None, sep=';', decimal=',')\n",
    "T3.columns = [\"heures\", \"d2035\", \"d2036\", \"d2037\" ,\"d2038\", \"d2039\"]\n",
    "\n",
    "T4 = pd.read_csv(\"T4.csv\", header=None, sep=';', decimal=',')\n",
    "T4.columns = [\"heures\", \"d2040\", \"d2041\", \"d2042\" ,\"d2043\", \"d2044\"]\n",
    "\n",
    "T5 = pd.read_csv(\"T5.csv\", header=None, sep=';', decimal=',')\n",
    "T5.columns = [\"heures\", \"d2045\", \"d2046\", \"d2047\" ,\"d2048\", \"d2049\"]\n",
    "\n",
    "Scenario= {\"RTE\" : RTE.demande,\"ADEME\" : ADEME2050_marion.demande, \"Negawatt\": Negawatt.demande,\n",
    "          \"T1_1\":T1.d2025, \"T1_2\":T1.d2026, \"T1_3\":T1.d2027, \"T1_4\":T1.d2028, \"T1_5\":T1.d2029,\n",
    "          \"T2_1\":T2.d2030, \"T2_2\":T2.d2031, \"T2_3\":T2.d2032, \"T2_4\":T2.d2033, \"T2_5\":T2.d2034,\n",
    "          \"T3_1\":T3.d2035, \"T3_2\":T3.d2036, \"T3_3\":T3.d2037, \"T3_4\":T3.d2038, \"T3_5\":T3.d2039,\n",
    "          \"T4_1\":T4.d2040, \"T4_2\":T4.d2041, \"T4_3\":T4.d2042, \"T4_4\":T4.d2043, \"T4_5\":T4.d2044,\n",
    "          \"T5_1\":T5.d2045, \"T5_2\":T5.d2046, \"T5_3\":T5.d2047, \"T5_4\":T5.d2048, \"T5_5\":T5.d2049}\n",
    "\n"
   ]
  },
  {
   "cell_type": "markdown",
   "id": "3241dfcb-3fd1-45c2-9a42-af4c8b84c21b",
   "metadata": {},
   "source": [
    "## Tentative de chronique horaire 2025->2050"
   ]
  },
  {
   "cell_type": "code",
   "execution_count": 3,
   "id": "238bdf5f-0f6f-4754-87a3-d52b7a78b296",
   "metadata": {
    "ExecuteTime": {
     "end_time": "2024-03-28T10:17:22.814072Z",
     "start_time": "2024-03-28T10:17:22.528750Z"
    }
   },
   "outputs": [
    {
     "data": {
      "text/plain": "            heures        d2025        d2026        d2027        d2028  \\\ncount  8760.000000  8760.000000  8760.000000  8760.000000  8760.000000   \nmean   4379.500000    72.300988    71.942086    71.584965    71.229618   \nstd    2528.938512    28.867072    28.723776    28.581191    28.439314   \nmin       0.000000    33.141571    32.977056    32.813358    32.650473   \n25%    2189.750000    51.744297    51.487439    51.231855    50.977540   \n50%    4379.500000    62.195897    61.887157    61.579949    61.274266   \n75%    6569.250000    84.623461    84.203390    83.785405    83.369494   \nmax    8759.000000   197.246551   196.267419   195.293148   194.323713   \n\n             d2029        d2030        d2031        d2032        d2033  ...  \\\ncount  8760.000000  8760.000000  8760.000000  8760.000000  8760.000000  ...   \nmean     70.876034    70.524205    70.174123    69.825779    69.479164  ...   \nstd      28.298142    28.157670    28.017895    27.878814    27.740424  ...   \nmin      32.488396    32.327123    32.166652    32.006976    31.848094  ...   \n25%      50.724487    50.472691    50.222145    49.972842    49.724777  ...   \n50%      60.970100    60.667445    60.366292    60.066633    59.768463  ...   \n75%      82.955648    82.543856    82.134108    81.726394    81.320705  ...   \nmax     193.359090   192.399255   191.444185   190.493856   189.548245  ...   \n\n             d2040        d2041        d2042        d2043        d2044  \\\ncount  8760.000000  8760.000000  8760.000000  8760.000000  8760.000000   \nmean     67.100559    66.767472    66.436038    66.106249    65.778098   \nstd      26.790736    26.657747    26.525418    26.393746    26.262727   \nmin      30.757781    30.605099    30.453175    30.302006    30.151587   \n25%      48.022459    47.784076    47.546876    47.310853    47.076002   \n50%      57.722302    57.435768    57.150657    56.866961    56.584674   \n75%      78.536707    78.146851    77.758930    77.372935    76.988855   \nmax     183.059100   182.150395   181.246200   180.346494   179.451254   \n\n             d2045        d2046        d2047        d2048        d2049  \ncount  8760.000000  8760.000000  8760.000000  8760.000000  8760.000000  \nmean     65.451576    65.126674    64.803385    64.481701    64.161614  \nstd      26.132359    26.002638    25.873561    25.745124    25.617326  \nmin      30.001914    29.852985    29.704795    29.557340    29.410617  \n25%      46.842317    46.609791    46.378420    46.148198    45.919118  \n50%      56.303787    56.024295    55.746191    55.469467    55.194116  \n75%      76.606683    76.226407    75.848019    75.471510    75.096869  \nmax     178.560458   177.674084   176.792110   175.914514   175.041274  \n\n[8 rows x 26 columns]",
      "text/html": "<div>\n<style scoped>\n    .dataframe tbody tr th:only-of-type {\n        vertical-align: middle;\n    }\n\n    .dataframe tbody tr th {\n        vertical-align: top;\n    }\n\n    .dataframe thead th {\n        text-align: right;\n    }\n</style>\n<table border=\"1\" class=\"dataframe\">\n  <thead>\n    <tr style=\"text-align: right;\">\n      <th></th>\n      <th>heures</th>\n      <th>d2025</th>\n      <th>d2026</th>\n      <th>d2027</th>\n      <th>d2028</th>\n      <th>d2029</th>\n      <th>d2030</th>\n      <th>d2031</th>\n      <th>d2032</th>\n      <th>d2033</th>\n      <th>...</th>\n      <th>d2040</th>\n      <th>d2041</th>\n      <th>d2042</th>\n      <th>d2043</th>\n      <th>d2044</th>\n      <th>d2045</th>\n      <th>d2046</th>\n      <th>d2047</th>\n      <th>d2048</th>\n      <th>d2049</th>\n    </tr>\n  </thead>\n  <tbody>\n    <tr>\n      <th>count</th>\n      <td>8760.000000</td>\n      <td>8760.000000</td>\n      <td>8760.000000</td>\n      <td>8760.000000</td>\n      <td>8760.000000</td>\n      <td>8760.000000</td>\n      <td>8760.000000</td>\n      <td>8760.000000</td>\n      <td>8760.000000</td>\n      <td>8760.000000</td>\n      <td>...</td>\n      <td>8760.000000</td>\n      <td>8760.000000</td>\n      <td>8760.000000</td>\n      <td>8760.000000</td>\n      <td>8760.000000</td>\n      <td>8760.000000</td>\n      <td>8760.000000</td>\n      <td>8760.000000</td>\n      <td>8760.000000</td>\n      <td>8760.000000</td>\n    </tr>\n    <tr>\n      <th>mean</th>\n      <td>4379.500000</td>\n      <td>72.300988</td>\n      <td>71.942086</td>\n      <td>71.584965</td>\n      <td>71.229618</td>\n      <td>70.876034</td>\n      <td>70.524205</td>\n      <td>70.174123</td>\n      <td>69.825779</td>\n      <td>69.479164</td>\n      <td>...</td>\n      <td>67.100559</td>\n      <td>66.767472</td>\n      <td>66.436038</td>\n      <td>66.106249</td>\n      <td>65.778098</td>\n      <td>65.451576</td>\n      <td>65.126674</td>\n      <td>64.803385</td>\n      <td>64.481701</td>\n      <td>64.161614</td>\n    </tr>\n    <tr>\n      <th>std</th>\n      <td>2528.938512</td>\n      <td>28.867072</td>\n      <td>28.723776</td>\n      <td>28.581191</td>\n      <td>28.439314</td>\n      <td>28.298142</td>\n      <td>28.157670</td>\n      <td>28.017895</td>\n      <td>27.878814</td>\n      <td>27.740424</td>\n      <td>...</td>\n      <td>26.790736</td>\n      <td>26.657747</td>\n      <td>26.525418</td>\n      <td>26.393746</td>\n      <td>26.262727</td>\n      <td>26.132359</td>\n      <td>26.002638</td>\n      <td>25.873561</td>\n      <td>25.745124</td>\n      <td>25.617326</td>\n    </tr>\n    <tr>\n      <th>min</th>\n      <td>0.000000</td>\n      <td>33.141571</td>\n      <td>32.977056</td>\n      <td>32.813358</td>\n      <td>32.650473</td>\n      <td>32.488396</td>\n      <td>32.327123</td>\n      <td>32.166652</td>\n      <td>32.006976</td>\n      <td>31.848094</td>\n      <td>...</td>\n      <td>30.757781</td>\n      <td>30.605099</td>\n      <td>30.453175</td>\n      <td>30.302006</td>\n      <td>30.151587</td>\n      <td>30.001914</td>\n      <td>29.852985</td>\n      <td>29.704795</td>\n      <td>29.557340</td>\n      <td>29.410617</td>\n    </tr>\n    <tr>\n      <th>25%</th>\n      <td>2189.750000</td>\n      <td>51.744297</td>\n      <td>51.487439</td>\n      <td>51.231855</td>\n      <td>50.977540</td>\n      <td>50.724487</td>\n      <td>50.472691</td>\n      <td>50.222145</td>\n      <td>49.972842</td>\n      <td>49.724777</td>\n      <td>...</td>\n      <td>48.022459</td>\n      <td>47.784076</td>\n      <td>47.546876</td>\n      <td>47.310853</td>\n      <td>47.076002</td>\n      <td>46.842317</td>\n      <td>46.609791</td>\n      <td>46.378420</td>\n      <td>46.148198</td>\n      <td>45.919118</td>\n    </tr>\n    <tr>\n      <th>50%</th>\n      <td>4379.500000</td>\n      <td>62.195897</td>\n      <td>61.887157</td>\n      <td>61.579949</td>\n      <td>61.274266</td>\n      <td>60.970100</td>\n      <td>60.667445</td>\n      <td>60.366292</td>\n      <td>60.066633</td>\n      <td>59.768463</td>\n      <td>...</td>\n      <td>57.722302</td>\n      <td>57.435768</td>\n      <td>57.150657</td>\n      <td>56.866961</td>\n      <td>56.584674</td>\n      <td>56.303787</td>\n      <td>56.024295</td>\n      <td>55.746191</td>\n      <td>55.469467</td>\n      <td>55.194116</td>\n    </tr>\n    <tr>\n      <th>75%</th>\n      <td>6569.250000</td>\n      <td>84.623461</td>\n      <td>84.203390</td>\n      <td>83.785405</td>\n      <td>83.369494</td>\n      <td>82.955648</td>\n      <td>82.543856</td>\n      <td>82.134108</td>\n      <td>81.726394</td>\n      <td>81.320705</td>\n      <td>...</td>\n      <td>78.536707</td>\n      <td>78.146851</td>\n      <td>77.758930</td>\n      <td>77.372935</td>\n      <td>76.988855</td>\n      <td>76.606683</td>\n      <td>76.226407</td>\n      <td>75.848019</td>\n      <td>75.471510</td>\n      <td>75.096869</td>\n    </tr>\n    <tr>\n      <th>max</th>\n      <td>8759.000000</td>\n      <td>197.246551</td>\n      <td>196.267419</td>\n      <td>195.293148</td>\n      <td>194.323713</td>\n      <td>193.359090</td>\n      <td>192.399255</td>\n      <td>191.444185</td>\n      <td>190.493856</td>\n      <td>189.548245</td>\n      <td>...</td>\n      <td>183.059100</td>\n      <td>182.150395</td>\n      <td>181.246200</td>\n      <td>180.346494</td>\n      <td>179.451254</td>\n      <td>178.560458</td>\n      <td>177.674084</td>\n      <td>176.792110</td>\n      <td>175.914514</td>\n      <td>175.041274</td>\n    </tr>\n  </tbody>\n</table>\n<p>8 rows × 26 columns</p>\n</div>"
     },
     "execution_count": 3,
     "metadata": {},
     "output_type": "execute_result"
    }
   ],
   "source": [
    "T=T1\n",
    "for other in [T2, T3, T4, T5]:\n",
    "    T = T.join(other.set_index(\"heures\"),on=\"heures\")\n",
    "T = pd.DataFrame(T)\n",
    "T.head()\n",
    "T.describe()\n"
   ]
  },
  {
   "cell_type": "code",
   "execution_count": 4,
   "id": "5274a5e4-1b42-4bee-8511-f04cec5ea281",
   "metadata": {
    "scrolled": true,
    "ExecuteTime": {
     "end_time": "2024-03-28T10:17:24.893710Z",
     "start_time": "2024-03-28T10:17:23.834909Z"
    }
   },
   "outputs": [],
   "source": [
    "def multi_plot_df(T, palette=bk.palettes.Category10_10):\n",
    "    couleurs = iter(palette)\n",
    "    source = bk.models.ColumnDataSource(T)\n",
    "    fig = bkp.figure()\n",
    "    for column in T.columns:\n",
    "#        if (column[0] == \"d\") or (column[0] == \"e\"):\n",
    "        if column != \"heures\":\n",
    "            fig.line(x=\"heures\" , y=column, line_color= next(couleurs), legend_label=column, source=source )\n",
    "    bkp.show(fig)\n",
    "multi_plot_df(T, palette=bk.palettes.Viridis256)"
   ]
  },
  {
   "cell_type": "markdown",
   "id": "ed5d4312-90e4-42e9-991a-0464b6c1bf08",
   "metadata": {},
   "source": [
    "# Recalcul des marions et ADEME_S1 à ADEME_S4\n",
    "Interpolation linéaire des scénaries de 2025 à 2050 par pas de 5 ans"
   ]
  },
  {
   "cell_type": "code",
   "execution_count": 5,
   "id": "40eaddb8-9217-4a3c-93ac-7880968fa842",
   "metadata": {
    "ExecuteTime": {
     "end_time": "2024-03-28T10:11:02.609664Z",
     "start_time": "2024-03-28T10:11:02.600070Z"
    }
   },
   "outputs": [],
   "source": [
    "def cumul_plot(T, cols, palette=bk.palettes.Category10_10):\n",
    "    couleurs = iter(palette)\n",
    "    source = bk.models.ColumnDataSource(T)\n",
    "    fig = bkp.figure()\n",
    "    fig.varea_stack(stackers=cols, x=\"heures\", color=[next(couleurs) for col in cols], legend_label=cols, source=source )\n",
    "    bkp.show(fig)\n"
   ]
  },
  {
   "cell_type": "code",
   "execution_count": 6,
   "id": "a89c1bd7-061f-44a8-a1e9-3eba78ba98c0",
   "metadata": {
    "ExecuteTime": {
     "end_time": "2024-03-28T10:11:08.804165Z",
     "start_time": "2024-03-28T10:11:02.623560Z"
    }
   },
   "outputs": [
    {
     "data": {
      "text/plain": "       heures Scénario  Demande directe non pilotable  \\\n0           0       S1                      20.014659   \n1           1       S1                      20.429866   \n2           2       S1                      20.323323   \n3           3       S1                      21.368149   \n4           4       S1                      20.326949   \n8760        0       S2                      23.128866   \n8761        1       S2                      23.670036   \n8762        2       S2                      23.597008   \n8763        3       S2                      24.936995   \n8764        4       S2                      23.678977   \n17520       0    S3Enr                      30.973319   \n17521       1    S3Enr                      31.692830   \n17522       2    S3Enr                      31.714862   \n17523       3    S3Enr                      33.581834   \n17524       4    S3Enr                      31.997536   \n26280       0   S3Nuke                      30.973319   \n26281       1   S3Nuke                      31.692830   \n26282       2   S3Nuke                      31.714862   \n26283       3   S3Nuke                      33.581834   \n26284       4   S3Nuke                      31.997536   \n35040       0       S4                      48.941175   \n35041       1       S4                      50.132385   \n35042       2       S4                      49.957064   \n35043       3       S4                      52.825933   \n35044       4       S4                      50.184766   \n\n       Demande directe pilotable  Demande pour électrolyse  \n0                       9.595461                 20.163689  \n1                       5.969498                 23.293989  \n2                       7.784238                 21.686296  \n3                       8.658542                 20.119695  \n4                      11.690069                 20.118905  \n8760                   11.582426                 36.651613  \n8761                    7.536459                 37.906882  \n8762                    7.284992                 37.793843  \n8763                    8.687520                 36.678802  \n8764                   13.216895                 36.348099  \n17520                  21.207005                 18.186488  \n17521                  21.270598                 18.186488  \n17522                  20.707185                 18.186488  \n17523                  18.385908                 18.186488  \n17524                  21.302790                 18.186488  \n26280                  19.871414                 16.396501  \n26281                  17.270155                 18.035505  \n26282                  17.341012                 17.977060  \n26283                  16.254809                 17.272707  \n26284                  19.458840                 16.848922  \n35040                  16.807314                  8.013217  \n35041                  17.513871                  8.013217  \n35042                  16.572368                  8.013217  \n35043                  14.411172                  8.013217  \n35044                  17.691268                  8.013217  ",
      "text/html": "<div>\n<style scoped>\n    .dataframe tbody tr th:only-of-type {\n        vertical-align: middle;\n    }\n\n    .dataframe tbody tr th {\n        vertical-align: top;\n    }\n\n    .dataframe thead th {\n        text-align: right;\n    }\n</style>\n<table border=\"1\" class=\"dataframe\">\n  <thead>\n    <tr style=\"text-align: right;\">\n      <th></th>\n      <th>heures</th>\n      <th>Scénario</th>\n      <th>Demande directe non pilotable</th>\n      <th>Demande directe pilotable</th>\n      <th>Demande pour électrolyse</th>\n    </tr>\n  </thead>\n  <tbody>\n    <tr>\n      <th>0</th>\n      <td>0</td>\n      <td>S1</td>\n      <td>20.014659</td>\n      <td>9.595461</td>\n      <td>20.163689</td>\n    </tr>\n    <tr>\n      <th>1</th>\n      <td>1</td>\n      <td>S1</td>\n      <td>20.429866</td>\n      <td>5.969498</td>\n      <td>23.293989</td>\n    </tr>\n    <tr>\n      <th>2</th>\n      <td>2</td>\n      <td>S1</td>\n      <td>20.323323</td>\n      <td>7.784238</td>\n      <td>21.686296</td>\n    </tr>\n    <tr>\n      <th>3</th>\n      <td>3</td>\n      <td>S1</td>\n      <td>21.368149</td>\n      <td>8.658542</td>\n      <td>20.119695</td>\n    </tr>\n    <tr>\n      <th>4</th>\n      <td>4</td>\n      <td>S1</td>\n      <td>20.326949</td>\n      <td>11.690069</td>\n      <td>20.118905</td>\n    </tr>\n    <tr>\n      <th>8760</th>\n      <td>0</td>\n      <td>S2</td>\n      <td>23.128866</td>\n      <td>11.582426</td>\n      <td>36.651613</td>\n    </tr>\n    <tr>\n      <th>8761</th>\n      <td>1</td>\n      <td>S2</td>\n      <td>23.670036</td>\n      <td>7.536459</td>\n      <td>37.906882</td>\n    </tr>\n    <tr>\n      <th>8762</th>\n      <td>2</td>\n      <td>S2</td>\n      <td>23.597008</td>\n      <td>7.284992</td>\n      <td>37.793843</td>\n    </tr>\n    <tr>\n      <th>8763</th>\n      <td>3</td>\n      <td>S2</td>\n      <td>24.936995</td>\n      <td>8.687520</td>\n      <td>36.678802</td>\n    </tr>\n    <tr>\n      <th>8764</th>\n      <td>4</td>\n      <td>S2</td>\n      <td>23.678977</td>\n      <td>13.216895</td>\n      <td>36.348099</td>\n    </tr>\n    <tr>\n      <th>17520</th>\n      <td>0</td>\n      <td>S3Enr</td>\n      <td>30.973319</td>\n      <td>21.207005</td>\n      <td>18.186488</td>\n    </tr>\n    <tr>\n      <th>17521</th>\n      <td>1</td>\n      <td>S3Enr</td>\n      <td>31.692830</td>\n      <td>21.270598</td>\n      <td>18.186488</td>\n    </tr>\n    <tr>\n      <th>17522</th>\n      <td>2</td>\n      <td>S3Enr</td>\n      <td>31.714862</td>\n      <td>20.707185</td>\n      <td>18.186488</td>\n    </tr>\n    <tr>\n      <th>17523</th>\n      <td>3</td>\n      <td>S3Enr</td>\n      <td>33.581834</td>\n      <td>18.385908</td>\n      <td>18.186488</td>\n    </tr>\n    <tr>\n      <th>17524</th>\n      <td>4</td>\n      <td>S3Enr</td>\n      <td>31.997536</td>\n      <td>21.302790</td>\n      <td>18.186488</td>\n    </tr>\n    <tr>\n      <th>26280</th>\n      <td>0</td>\n      <td>S3Nuke</td>\n      <td>30.973319</td>\n      <td>19.871414</td>\n      <td>16.396501</td>\n    </tr>\n    <tr>\n      <th>26281</th>\n      <td>1</td>\n      <td>S3Nuke</td>\n      <td>31.692830</td>\n      <td>17.270155</td>\n      <td>18.035505</td>\n    </tr>\n    <tr>\n      <th>26282</th>\n      <td>2</td>\n      <td>S3Nuke</td>\n      <td>31.714862</td>\n      <td>17.341012</td>\n      <td>17.977060</td>\n    </tr>\n    <tr>\n      <th>26283</th>\n      <td>3</td>\n      <td>S3Nuke</td>\n      <td>33.581834</td>\n      <td>16.254809</td>\n      <td>17.272707</td>\n    </tr>\n    <tr>\n      <th>26284</th>\n      <td>4</td>\n      <td>S3Nuke</td>\n      <td>31.997536</td>\n      <td>19.458840</td>\n      <td>16.848922</td>\n    </tr>\n    <tr>\n      <th>35040</th>\n      <td>0</td>\n      <td>S4</td>\n      <td>48.941175</td>\n      <td>16.807314</td>\n      <td>8.013217</td>\n    </tr>\n    <tr>\n      <th>35041</th>\n      <td>1</td>\n      <td>S4</td>\n      <td>50.132385</td>\n      <td>17.513871</td>\n      <td>8.013217</td>\n    </tr>\n    <tr>\n      <th>35042</th>\n      <td>2</td>\n      <td>S4</td>\n      <td>49.957064</td>\n      <td>16.572368</td>\n      <td>8.013217</td>\n    </tr>\n    <tr>\n      <th>35043</th>\n      <td>3</td>\n      <td>S4</td>\n      <td>52.825933</td>\n      <td>14.411172</td>\n      <td>8.013217</td>\n    </tr>\n    <tr>\n      <th>35044</th>\n      <td>4</td>\n      <td>S4</td>\n      <td>50.184766</td>\n      <td>17.691268</td>\n      <td>8.013217</td>\n    </tr>\n  </tbody>\n</table>\n</div>"
     },
     "execution_count": 6,
     "metadata": {},
     "output_type": "execute_result"
    }
   ],
   "source": [
    "import openpyxl\n",
    "ADEME2050 = pd.read_excel(\"Transitions 2050 - Chroniques horaires de la consommation d’électricité.xlsx\")\n",
    "ADEME2050.drop(columns=[\"Horodatage\"], inplace=True)\n",
    "ADEME2050.insert(loc=0, column=\"heures\", \n",
    "                 value=T1[\"heures\"].tolist() * len(ADEME2050[\"Scénario\"].unique()))\n",
    "ADEME2050.groupby(\"Scénario\").head()"
   ]
  },
  {
   "cell_type": "code",
   "execution_count": 7,
   "id": "2905c606-5c25-4750-afba-e4058767bec4",
   "metadata": {
    "collapsed": true,
    "jupyter": {
     "outputs_hidden": true
    },
    "scrolled": true,
    "ExecuteTime": {
     "end_time": "2024-03-28T10:11:11.936332Z",
     "start_time": "2024-03-28T10:11:08.806981Z"
    }
   },
   "outputs": [
    {
     "name": "stdout",
     "output_type": "stream",
     "text": [
      "S1\n",
      "S2\n",
      "S3Enr\n",
      "S3Nuke\n",
      "S4\n"
     ]
    }
   ],
   "source": [
    "for nom, group in ADEME2050.groupby(\"Scénario\"):\n",
    "    print(nom)\n",
    "    group.drop(columns=[\"Scénario\"], inplace=True)\n",
    "    cumul_plot(group, cols=group.columns.tolist()[1:])"
   ]
  },
  {
   "cell_type": "code",
   "execution_count": 8,
   "id": "846b1188-18e7-423d-8bf1-f69f776f4a02",
   "metadata": {
    "ExecuteTime": {
     "end_time": "2024-03-28T10:11:11.996236Z",
     "start_time": "2024-03-28T10:11:11.939646Z"
    }
   },
   "outputs": [],
   "source": [
    "ADEME2050.insert(loc=4, column='d2050', value=ADEME2050.iloc[:,[2, 3]].sum(axis=1))\n",
    "ADEME2050.rename({ADEME2050.columns[5]: \"e2050\"}, axis=1, inplace=True)\n"
   ]
  },
  {
   "cell_type": "code",
   "execution_count": 9,
   "id": "32963010-49d7-4793-b243-845320f90b93",
   "metadata": {
    "collapsed": true,
    "jupyter": {
     "outputs_hidden": true
    },
    "ExecuteTime": {
     "end_time": "2024-03-28T10:11:16.244957Z",
     "start_time": "2024-03-28T10:11:11.999163Z"
    }
   },
   "outputs": [
    {
     "name": "stdout",
     "output_type": "stream",
     "text": [
      "   heures Scénario  Demande directe non pilotable  Demande directe pilotable  \\\n",
      "0       0       S1                      20.014659                   9.595461   \n",
      "1       1       S1                      20.429866                   5.969498   \n",
      "2       2       S1                      20.323323                   7.784238   \n",
      "3       3       S1                      21.368149                   8.658542   \n",
      "4       4       S1                      20.326949                  11.690069   \n",
      "\n",
      "       d2050      e2050  \n",
      "0  29.610119  20.163689  \n",
      "1  26.399364  23.293989  \n",
      "2  28.107561  21.686296  \n",
      "3  30.026691  20.119695  \n",
      "4  32.017018  20.118905  \n"
     ]
    }
   ],
   "source": [
    "print(ADEME2050.head())\n",
    "for nom, groupe in ADEME2050.groupby(\"Scénario\"):\n",
    "    cumul_plot(groupe, cols=[\"d2050\", \"e2050\"])"
   ]
  },
  {
   "cell_type": "markdown",
   "id": "914b8a04e2cae74f",
   "metadata": {
    "collapsed": false
   },
   "source": [
    "## Recalcul des mariions ADEME RTE Negawatt"
   ]
  },
  {
   "cell_type": "code",
   "execution_count": 10,
   "id": "f0eee516-3729-457a-a6da-78961605c17a",
   "metadata": {
    "ExecuteTime": {
     "end_time": "2024-03-28T10:11:16.663217Z",
     "start_time": "2024-03-28T10:11:16.257401Z"
    }
   },
   "outputs": [],
   "source": [
    "chemins_deploiement = \"../flaskapp/mix_data/\"\n",
    "for nom in [\"ADEME\", \"RTE\", \"NEGAWATT\"]:\n",
    "    fich = nom+\"_25-50.csv\"\n",
    "    df = pd.read_csv(fich, header=None)\n",
    "    df.columns = [\"heures\", \"d2050\", \"d2045\", \"d2040\", \"d2035\", \"d2030\", \"d2025\"]\n",
    "    df.to_csv(chemins_deploiement+fich, index=False) \n",
    "    \n",
    "scenars_marion = pd.read_csv(\"../flaskapp/mix_data/ADEME_25-50.csv\")\n",
    "#scenars_marion.columns = [\"heures\", \"d2050\", \"d2045\", \"d2040\", \"d2035\", \"d2030\", \"d2025\"]\n"
   ]
  },
  {
   "cell_type": "code",
   "execution_count": 11,
   "id": "02b1844a-4083-442e-a437-5156fec48bb2",
   "metadata": {
    "ExecuteTime": {
     "end_time": "2024-03-28T10:11:16.689562Z",
     "start_time": "2024-03-28T10:11:16.666654Z"
    }
   },
   "outputs": [
    {
     "data": {
      "text/plain": "   heures      d2050      d2045      d2040      d2035      d2030      d2025\n0       0  28.690014  29.263814  29.837615  30.411415  30.985215  31.559016\n1       1  31.208458  31.832627  32.456796  33.080965  33.705134  34.329304\n2       2  27.699606  28.253598  28.807590  29.361582  29.915575  30.469567\n3       3  27.987488  28.547238  29.106988  29.666738  30.226487  30.786237\n4       4  28.162673  28.725926  29.289180  29.852433  30.415687  30.978940",
      "text/html": "<div>\n<style scoped>\n    .dataframe tbody tr th:only-of-type {\n        vertical-align: middle;\n    }\n\n    .dataframe tbody tr th {\n        vertical-align: top;\n    }\n\n    .dataframe thead th {\n        text-align: right;\n    }\n</style>\n<table border=\"1\" class=\"dataframe\">\n  <thead>\n    <tr style=\"text-align: right;\">\n      <th></th>\n      <th>heures</th>\n      <th>d2050</th>\n      <th>d2045</th>\n      <th>d2040</th>\n      <th>d2035</th>\n      <th>d2030</th>\n      <th>d2025</th>\n    </tr>\n  </thead>\n  <tbody>\n    <tr>\n      <th>0</th>\n      <td>0</td>\n      <td>28.690014</td>\n      <td>29.263814</td>\n      <td>29.837615</td>\n      <td>30.411415</td>\n      <td>30.985215</td>\n      <td>31.559016</td>\n    </tr>\n    <tr>\n      <th>1</th>\n      <td>1</td>\n      <td>31.208458</td>\n      <td>31.832627</td>\n      <td>32.456796</td>\n      <td>33.080965</td>\n      <td>33.705134</td>\n      <td>34.329304</td>\n    </tr>\n    <tr>\n      <th>2</th>\n      <td>2</td>\n      <td>27.699606</td>\n      <td>28.253598</td>\n      <td>28.807590</td>\n      <td>29.361582</td>\n      <td>29.915575</td>\n      <td>30.469567</td>\n    </tr>\n    <tr>\n      <th>3</th>\n      <td>3</td>\n      <td>27.987488</td>\n      <td>28.547238</td>\n      <td>29.106988</td>\n      <td>29.666738</td>\n      <td>30.226487</td>\n      <td>30.786237</td>\n    </tr>\n    <tr>\n      <th>4</th>\n      <td>4</td>\n      <td>28.162673</td>\n      <td>28.725926</td>\n      <td>29.289180</td>\n      <td>29.852433</td>\n      <td>30.415687</td>\n      <td>30.978940</td>\n    </tr>\n  </tbody>\n</table>\n</div>"
     },
     "execution_count": 11,
     "metadata": {},
     "output_type": "execute_result"
    }
   ],
   "source": [
    "scenars_marion.head()"
   ]
  },
  {
   "cell_type": "code",
   "execution_count": 12,
   "id": "1d56983e-8042-4835-bf9d-5b7027488be7",
   "metadata": {
    "ExecuteTime": {
     "end_time": "2024-03-28T10:11:17.472982Z",
     "start_time": "2024-03-28T10:11:16.693945Z"
    }
   },
   "outputs": [],
   "source": [
    "multi_plot_df(scenars_marion)"
   ]
  },
  {
   "cell_type": "code",
   "execution_count": 13,
   "id": "bb90b3aa-252e-4d75-a49b-475c141ea156",
   "metadata": {
    "ExecuteTime": {
     "end_time": "2024-03-28T10:11:17.998506Z",
     "start_time": "2024-03-28T10:11:17.476046Z"
    }
   },
   "outputs": [
    {
     "name": "stdout",
     "output_type": "stream",
     "text": [
      "Demande en 2025\n",
      "   heures      d2025  e2025\n",
      "0       0  31.559016    0.0\n",
      "1       1  34.329304    0.0\n",
      "2       2  30.469567    0.0\n",
      "3       3  30.786237    0.0\n",
      "4       4  30.978940    0.0\n"
     ]
    }
   ],
   "source": [
    "scenar2025 = scenars_marion[[\"heures\", \"d2025\"]]\n",
    "scenar2025.insert(loc= 2, column=\"e2025\", value=scenar2025[\"d2025\"] * 0.)\n",
    "print(\"Demande en 2025\")\n",
    "print(scenar2025.head())\n",
    "multi_plot_df(scenar2025[[\"heures\", \"d2025\",\"e2025\"]])\n"
   ]
  },
  {
   "cell_type": "code",
   "execution_count": 14,
   "id": "2f2c553f-4db3-4b35-b9f4-385df95ae764",
   "metadata": {
    "ExecuteTime": {
     "end_time": "2024-03-28T10:11:18.477629Z",
     "start_time": "2024-03-28T10:11:18.003562Z"
    }
   },
   "outputs": [
    {
     "name": "stdout",
     "output_type": "stream",
     "text": [
      "  Scénario  heures      d2025  e2025      d2030     e2030      d2035  \\\n",
      "0       S1       0  31.559016    0.0  31.169236  4.032738  30.779457   \n",
      "1       S1       1  34.329304    0.0  32.743316  4.658798  31.157328   \n",
      "2       S1       2  30.469567    0.0  29.997166  4.337259  29.524765   \n",
      "3       S1       3  30.786237    0.0  30.634328  4.023939  30.482419   \n",
      "4       S1       4  30.978940    0.0  31.186556  4.023781  31.394171   \n",
      "\n",
      "      e2035      d2040      e2040      d2045      e2045      d2050      e2050  \n",
      "0  8.065475  30.389678  12.098213  29.999899  16.130951  29.610119  20.163689  \n",
      "1  9.317596  29.571340  13.976393  27.985352  18.635191  26.399364  23.293989  \n",
      "2  8.674519  29.052363  13.011778  28.579962  17.349037  28.107561  21.686296  \n",
      "3  8.047878  30.330510  12.071817  30.178600  16.095756  30.026691  20.119695  \n",
      "4  8.047562  31.601787  12.071343  31.809402  16.095124  32.017018  20.118905  \n",
      "======================================================\n",
      "     Scénario  heures      d2025  e2025      d2030     e2030      d2035  \\\n",
      "8760       S2       0  31.559016    0.0  32.189471  7.330323  32.819926   \n",
      "8761       S2       1  34.329304    0.0  33.704742  7.581376  33.080180   \n",
      "8762       S2       2  30.469567    0.0  30.552053  7.558769  30.634540   \n",
      "8763       S2       3  30.786237    0.0  31.353893  7.335760  31.921548   \n",
      "8764       S2       4  30.978940    0.0  32.162326  7.269620  33.345713   \n",
      "\n",
      "          e2035      d2040      e2040      d2045      e2045      d2050  \\\n",
      "8760  14.660645  33.450382  21.990968  34.080837  29.321291  34.711292   \n",
      "8761  15.162753  32.455619  22.744129  31.831057  30.325506  31.206496   \n",
      "8762  15.117537  30.717026  22.676306  30.799513  30.235075  30.881999   \n",
      "8763  14.671521  32.489204  22.007281  33.056859  29.343041  33.624515   \n",
      "8764  14.539240  34.529099  21.808859  35.712485  29.078479  36.895872   \n",
      "\n",
      "          e2050  \n",
      "8760  36.651613  \n",
      "8761  37.906882  \n",
      "8762  37.793843  \n",
      "8763  36.678802  \n",
      "8764  36.348099  \n",
      "======================================================\n",
      "      Scénario  heures      d2025  e2025      d2030     e2030      d2035  \\\n",
      "17520    S3Enr       0  31.559016    0.0  35.683277  3.637298  39.807539   \n",
      "17521    S3Enr       1  34.329304    0.0  38.056128  3.637298  41.782953   \n",
      "17522    S3Enr       2  30.469567    0.0  34.860063  3.637298  39.250559   \n",
      "17523    S3Enr       3  30.786237    0.0  35.022538  3.637298  39.258839   \n",
      "17524    S3Enr       4  30.978940    0.0  35.443217  3.637298  39.907494   \n",
      "\n",
      "          e2035      d2040      e2040      d2045      e2045      d2050  \\\n",
      "17520  7.274595  43.931801  10.911893  48.056062  14.549191  52.180324   \n",
      "17521  7.274595  45.509778  10.911893  49.236603  14.549191  52.963427   \n",
      "17522  7.274595  43.641055  10.911893  48.031551  14.549191  52.422047   \n",
      "17523  7.274595  43.495140  10.911893  47.731441  14.549191  51.967742   \n",
      "17524  7.274595  44.371772  10.911893  48.836049  14.549191  53.300326   \n",
      "\n",
      "           e2050  \n",
      "17520  18.186488  \n",
      "17521  18.186488  \n",
      "17522  18.186488  \n",
      "17523  18.186488  \n",
      "17524  18.186488  \n",
      "======================================================\n",
      "      Scénario  heures      d2025  e2025      d2030     e2030      d2035  \\\n",
      "26280   S3Nuke       0  31.559016    0.0  35.416159  3.279300  39.273303   \n",
      "26281   S3Nuke       1  34.329304    0.0  37.256040  3.607101  40.182776   \n",
      "26282   S3Nuke       2  30.469567    0.0  34.186828  3.595412  37.904090   \n",
      "26283   S3Nuke       3  30.786237    0.0  34.596318  3.454541  38.406400   \n",
      "26284   S3Nuke       4  30.978940    0.0  35.074427  3.369784  39.169914   \n",
      "\n",
      "          e2035      d2040      e2040      d2045      e2045      d2050  \\\n",
      "26280  6.558600  43.130446   9.837901  46.987590  13.117201  50.844734   \n",
      "26281  7.214202  43.109512  10.821303  46.036248  14.428404  48.962984   \n",
      "26282  7.190824  41.621351  10.786236  45.338613  14.381648  49.055875   \n",
      "26283  6.909083  42.216481  10.363624  46.026562  13.818165  49.836643   \n",
      "26284  6.739569  43.265401  10.109353  47.360889  13.479137  51.456376   \n",
      "\n",
      "           e2050  \n",
      "26280  16.396501  \n",
      "26281  18.035505  \n",
      "26282  17.977060  \n",
      "26283  17.272707  \n",
      "26284  16.848922  \n",
      "======================================================\n",
      "      Scénario  heures      d2025  e2025      d2030     e2030      d2035  \\\n",
      "35040       S4       0  31.559016    0.0  38.396910  1.602643  45.234805   \n",
      "35041       S4       1  34.329304    0.0  40.992694  1.602643  47.656085   \n",
      "35042       S4       2  30.469567    0.0  37.681540  1.602643  44.893513   \n",
      "35043       S4       3  30.786237    0.0  38.076411  1.602643  45.366584   \n",
      "35044       S4       4  30.978940    0.0  38.358359  1.602643  45.737778   \n",
      "\n",
      "          e2035      d2040    e2040      d2045     e2045      d2050     e2050  \n",
      "35040  3.205287  52.072699  4.80793  58.910594  6.410574  65.748489  8.013217  \n",
      "35041  3.205287  54.319475  4.80793  60.982866  6.410574  67.646256  8.013217  \n",
      "35042  3.205287  52.105486  4.80793  59.317459  6.410574  66.529432  8.013217  \n",
      "35043  3.205287  52.656758  4.80793  59.946932  6.410574  67.237105  8.013217  \n",
      "35044  3.205287  53.117196  4.80793  60.496615  6.410574  67.876034  8.013217  \n",
      "======================================================\n"
     ]
    }
   ],
   "source": [
    "scenars_2025_50= ADEME2050[[\"Scénario\", \"d2050\",\"e2050\"]]\n",
    "\n",
    "scenars={}\n",
    "for nom, group in scenars_2025_50.groupby(\"Scénario\"):\n",
    "\n",
    "    group.insert(loc=1, column=\"heures\", value=scenar2025[\"heures\"].tolist())\n",
    "    for annee in range(2045,2020,-5):\n",
    "        alpha = float(annee-2025.)/float(2050-2025)\n",
    "        for dem_elec in [\"e\",\"d\"]:\n",
    "            liste50 = group[dem_elec+\"2050\"]\n",
    "            liste25 = scenar2025[dem_elec+\"2025\"]\n",
    "            group.insert(loc=2, \n",
    "                         column = dem_elec+annee.__str__(), \n",
    "                         value = [a*(1.-alpha) + b*alpha for a, b in zip(liste25, liste50)]\n",
    "                        )\n",
    "    scenars[nom]=group.drop(columns=\"Scénario\")\n",
    "    print(group.head()) \n",
    "    print(\"======================================================\")\n"
   ]
  },
  {
   "cell_type": "code",
   "execution_count": 15,
   "id": "7cf1cd75-6481-4e2d-aa64-66198e603c71",
   "metadata": {
    "ExecuteTime": {
     "end_time": "2024-03-28T10:11:22.950670Z",
     "start_time": "2024-03-28T10:11:18.480702Z"
    }
   },
   "outputs": [
    {
     "name": "stdout",
     "output_type": "stream",
     "text": [
      "S1 demande\n",
      "S2 demande\n",
      "S3Enr demande\n",
      "S3Nuke demande\n",
      "S4 demande\n"
     ]
    }
   ],
   "source": [
    "cols={}\n",
    "for dem_elec in [\"e\",\"d\"]:\n",
    "    cols[dem_elec]=[\"heures\"]\n",
    "    for annee in range(2050,2020,-5):\n",
    "        cols[dem_elec].append(dem_elec+annee.__str__())\n",
    "\n",
    "for nom, df in scenars.items():\n",
    "    print(nom+\" demande\")\n",
    "    df.describe()\n",
    "    multi_plot_df(df[cols[\"d\"]])"
   ]
  },
  {
   "cell_type": "code",
   "execution_count": 16,
   "id": "7302209b-7bcd-4487-a820-f32ec6342d81",
   "metadata": {
    "ExecuteTime": {
     "end_time": "2024-03-28T10:11:25.743061Z",
     "start_time": "2024-03-28T10:11:22.954750Z"
    }
   },
   "outputs": [
    {
     "name": "stdout",
     "output_type": "stream",
     "text": [
      "S1 electrolyse\n",
      "S2 electrolyse\n",
      "S3Enr electrolyse\n",
      "S3Nuke electrolyse\n",
      "S4 electrolyse\n"
     ]
    }
   ],
   "source": [
    "for nom, df in scenars.items():\n",
    "    print(nom+\" electrolyse\")\n",
    "    df.describe()\n",
    "    multi_plot_df(df[cols[\"e\"]])"
   ]
  },
  {
   "cell_type": "code",
   "execution_count": 17,
   "id": "c1a96cf9-3fab-465e-a7a3-400478187bda",
   "metadata": {
    "ExecuteTime": {
     "end_time": "2024-03-28T10:11:26.881866Z",
     "start_time": "2024-03-28T10:11:25.746026Z"
    }
   },
   "outputs": [
    {
     "name": "stdout",
     "output_type": "stream",
     "text": [
      "../flaskapp/mix_data/S1_25-50.csv\n",
      "   heures      d2025  e2025      d2030     e2030      d2035     e2035  \\\n",
      "0       0  31.559016    0.0  31.169236  4.032738  30.779457  8.065475   \n",
      "1       1  34.329304    0.0  32.743316  4.658798  31.157328  9.317596   \n",
      "2       2  30.469567    0.0  29.997166  4.337259  29.524765  8.674519   \n",
      "3       3  30.786237    0.0  30.634328  4.023939  30.482419  8.047878   \n",
      "4       4  30.978940    0.0  31.186556  4.023781  31.394171  8.047562   \n",
      "\n",
      "       d2040      e2040      d2045      e2045      d2050      e2050  \n",
      "0  30.389678  12.098213  29.999899  16.130951  29.610119  20.163689  \n",
      "1  29.571340  13.976393  27.985352  18.635191  26.399364  23.293989  \n",
      "2  29.052363  13.011778  28.579962  17.349037  28.107561  21.686296  \n",
      "3  30.330510  12.071817  30.178600  16.095756  30.026691  20.119695  \n",
      "4  31.601787  12.071343  31.809402  16.095124  32.017018  20.118905  \n",
      "../flaskapp/mix_data/S2_25-50.csv\n",
      "      heures      d2025  e2025      d2030     e2030      d2035      e2035  \\\n",
      "8760       0  31.559016    0.0  32.189471  7.330323  32.819926  14.660645   \n",
      "8761       1  34.329304    0.0  33.704742  7.581376  33.080180  15.162753   \n",
      "8762       2  30.469567    0.0  30.552053  7.558769  30.634540  15.117537   \n",
      "8763       3  30.786237    0.0  31.353893  7.335760  31.921548  14.671521   \n",
      "8764       4  30.978940    0.0  32.162326  7.269620  33.345713  14.539240   \n",
      "\n",
      "          d2040      e2040      d2045      e2045      d2050      e2050  \n",
      "8760  33.450382  21.990968  34.080837  29.321291  34.711292  36.651613  \n",
      "8761  32.455619  22.744129  31.831057  30.325506  31.206496  37.906882  \n",
      "8762  30.717026  22.676306  30.799513  30.235075  30.881999  37.793843  \n",
      "8763  32.489204  22.007281  33.056859  29.343041  33.624515  36.678802  \n",
      "8764  34.529099  21.808859  35.712485  29.078479  36.895872  36.348099  \n",
      "../flaskapp/mix_data/S3Enr_25-50.csv\n",
      "       heures      d2025  e2025      d2030     e2030      d2035     e2035  \\\n",
      "17520       0  31.559016    0.0  35.683277  3.637298  39.807539  7.274595   \n",
      "17521       1  34.329304    0.0  38.056128  3.637298  41.782953  7.274595   \n",
      "17522       2  30.469567    0.0  34.860063  3.637298  39.250559  7.274595   \n",
      "17523       3  30.786237    0.0  35.022538  3.637298  39.258839  7.274595   \n",
      "17524       4  30.978940    0.0  35.443217  3.637298  39.907494  7.274595   \n",
      "\n",
      "           d2040      e2040      d2045      e2045      d2050      e2050  \n",
      "17520  43.931801  10.911893  48.056062  14.549191  52.180324  18.186488  \n",
      "17521  45.509778  10.911893  49.236603  14.549191  52.963427  18.186488  \n",
      "17522  43.641055  10.911893  48.031551  14.549191  52.422047  18.186488  \n",
      "17523  43.495140  10.911893  47.731441  14.549191  51.967742  18.186488  \n",
      "17524  44.371772  10.911893  48.836049  14.549191  53.300326  18.186488  \n",
      "../flaskapp/mix_data/S3Nuke_25-50.csv\n",
      "       heures      d2025  e2025      d2030     e2030      d2035     e2035  \\\n",
      "26280       0  31.559016    0.0  35.416159  3.279300  39.273303  6.558600   \n",
      "26281       1  34.329304    0.0  37.256040  3.607101  40.182776  7.214202   \n",
      "26282       2  30.469567    0.0  34.186828  3.595412  37.904090  7.190824   \n",
      "26283       3  30.786237    0.0  34.596318  3.454541  38.406400  6.909083   \n",
      "26284       4  30.978940    0.0  35.074427  3.369784  39.169914  6.739569   \n",
      "\n",
      "           d2040      e2040      d2045      e2045      d2050      e2050  \n",
      "26280  43.130446   9.837901  46.987590  13.117201  50.844734  16.396501  \n",
      "26281  43.109512  10.821303  46.036248  14.428404  48.962984  18.035505  \n",
      "26282  41.621351  10.786236  45.338613  14.381648  49.055875  17.977060  \n",
      "26283  42.216481  10.363624  46.026562  13.818165  49.836643  17.272707  \n",
      "26284  43.265401  10.109353  47.360889  13.479137  51.456376  16.848922  \n",
      "../flaskapp/mix_data/S4_25-50.csv\n",
      "       heures      d2025  e2025      d2030     e2030      d2035     e2035  \\\n",
      "35040       0  31.559016    0.0  38.396910  1.602643  45.234805  3.205287   \n",
      "35041       1  34.329304    0.0  40.992694  1.602643  47.656085  3.205287   \n",
      "35042       2  30.469567    0.0  37.681540  1.602643  44.893513  3.205287   \n",
      "35043       3  30.786237    0.0  38.076411  1.602643  45.366584  3.205287   \n",
      "35044       4  30.978940    0.0  38.358359  1.602643  45.737778  3.205287   \n",
      "\n",
      "           d2040    e2040      d2045     e2045      d2050     e2050  \n",
      "35040  52.072699  4.80793  58.910594  6.410574  65.748489  8.013217  \n",
      "35041  54.319475  4.80793  60.982866  6.410574  67.646256  8.013217  \n",
      "35042  52.105486  4.80793  59.317459  6.410574  66.529432  8.013217  \n",
      "35043  52.656758  4.80793  59.946932  6.410574  67.237105  8.013217  \n",
      "35044  53.117196  4.80793  60.496615  6.410574  67.876034  8.013217  \n"
     ]
    }
   ],
   "source": [
    "for nom, df in scenars.items():\n",
    "    fich = \"../flaskapp/mix_data/\"+nom+\"_25-50.csv\"\n",
    "    print(fich)\n",
    "    print(df.head())\n",
    "    df.to_csv(fich, index=False)\n"
   ]
  },
  {
   "cell_type": "markdown",
   "id": "cd182d83-51bd-4b7f-b042-cb089fa74174",
   "metadata": {},
   "source": [
    "# Comparaison des nouveaux scenars"
   ]
  },
  {
   "cell_type": "code",
   "execution_count": 18,
   "id": "043372ae-54d8-45de-b87c-f265934cbbef",
   "metadata": {
    "ExecuteTime": {
     "end_time": "2024-03-28T10:11:28.097458Z",
     "start_time": "2024-03-28T10:11:26.884243Z"
    }
   },
   "outputs": [
    {
     "name": "stdout",
     "output_type": "stream",
     "text": [
      "année 2025\n"
     ]
    }
   ],
   "source": [
    "fig = bkp.figure()\n",
    "palette=bk.palettes.Category10_10\n",
    "couleurs = iter(palette)\n",
    "fig.line(x=\"heures\", y=\"d2025\", legend_label = \"marion\", color= next(couleurs), source=scenars_marion)\n",
    "for nom,df in scenars.items():\n",
    "    fig.line(x=\"heures\", y=\"d2025\", legend_label = nom, color= next(couleurs), source=df)\n",
    "print(\"année 2025\");\n",
    "bkp.show(fig)"
   ]
  },
  {
   "cell_type": "code",
   "execution_count": 19,
   "id": "359bcd82-35ba-46f9-878c-c31831fa110d",
   "metadata": {
    "ExecuteTime": {
     "end_time": "2024-03-28T10:11:29.416735Z",
     "start_time": "2024-03-28T10:11:28.100927Z"
    }
   },
   "outputs": [
    {
     "name": "stdout",
     "output_type": "stream",
     "text": [
      "année 2050\n"
     ]
    }
   ],
   "source": [
    "fig = bkp.figure()\n",
    "palette=bk.palettes.Category10_10\n",
    "couleurs = iter(palette)\n",
    "fig.line(x=\"heures\", y=\"d2050\", legend_label = \"marion\", color= next(couleurs), source=scenars_marion)\n",
    "fig.line(x=\"heures\", y=\"d2025\", legend_label = \"marion25\", color= next(couleurs), source=scenars_marion)\n",
    "for nom,df in scenars.items():\n",
    "    fig.line(x=\"heures\", y=\"d2050\", legend_label = nom, color= next(couleurs), source=df)\n",
    "print(\"année 2050\");\n",
    "bkp.show(fig)\n"
   ]
  },
  {
   "cell_type": "code",
   "execution_count": 20,
   "id": "064a08d8-721b-4f97-b825-0a845fbef77b",
   "metadata": {
    "ExecuteTime": {
     "end_time": "2024-03-28T10:11:33.172280Z",
     "start_time": "2024-03-28T10:11:29.420421Z"
    }
   },
   "outputs": [
    {
     "name": "stdout",
     "output_type": "stream",
     "text": [
      "année 2050\n",
      "année 2050\n",
      "année 2050\n",
      "année 2050\n",
      "année 2050\n"
     ]
    }
   ],
   "source": [
    "for nom,df in scenars.items():\n",
    "    fig = bkp.figure()\n",
    "    palette=bk.palettes.Category10_10\n",
    "    couleurs = iter(palette)\n",
    "    fig.varea_stack(stackers=[\"d2050\",\"e2050\"], x=\"heures\", legend_label = [nom+\"d2050\",nom+\"e2050\"], color= [next(couleurs) for col in cols], source=df)\n",
    "    fig.line(x=\"heures\", y=\"d2050\", legend_label = \"marion\", color= \"grey\", source=scenars_marion)\n",
    "    fig.line(x=\"heures\", y=\"d2025\", legend_label = \"marion25\", color= \"black\", source=scenars_marion)\n",
    "    print(\"année 2050\");\n",
    "    bkp.show(fig)"
   ]
  },
  {
   "cell_type": "code",
   "execution_count": 21,
   "id": "da10001b-378c-483c-a6e4-1a0a19484c5d",
   "metadata": {
    "ExecuteTime": {
     "end_time": "2024-03-28T10:11:33.841724Z",
     "start_time": "2024-03-28T10:11:33.175124Z"
    }
   },
   "outputs": [],
   "source": [
    "from bokeh.resources import CDN\n",
    "from bokeh.embed import file_html\n",
    "p = bkp.figure(title=\"Periodic Table (omitting LA and AC Series)\", \n",
    "           tools=\"hover\", toolbar_location=None)\n",
    "palette=bk.palettes.Category10_10\n",
    "couleurs = iter(palette)\n",
    "p.varea_stack(stackers=[\"d2050\",\"e2050\"], x=\"heures\", legend_label = [nom+\"d2050\",nom+\"e2050\"], color= [next(couleurs) for col in cols], source=df)\n",
    "p.line(x=\"heures\", y=\"d2050\", legend_label = \"marion\", color= \"grey\", source=scenars_marion)\n",
    "p.line(x=\"heures\", y=\"d2025\", legend_label = \"marion25\", color= \"black\", source=scenars_marion)\n",
    "\n",
    "title = \"periodic table\"\n",
    "bkp.show(p)\n"
   ]
  },
  {
   "cell_type": "code",
   "outputs": [],
   "source": [
    "p_html_str = file_html(p, CDN, title)"
   ],
   "metadata": {
    "collapsed": false,
    "ExecuteTime": {
     "end_time": "2024-03-28T10:11:34.055998Z",
     "start_time": "2024-03-28T10:11:33.844580Z"
    }
   },
   "id": "a605a3409680951e",
   "execution_count": 22
  },
  {
   "cell_type": "code",
   "outputs": [],
   "source": [],
   "metadata": {
    "collapsed": false,
    "ExecuteTime": {
     "end_time": "2024-03-28T10:11:34.061006Z",
     "start_time": "2024-03-28T10:11:34.057641Z"
    }
   },
   "id": "8c9ff94f1e563e50",
   "execution_count": 22
  }
 ],
 "metadata": {
  "kernelspec": {
   "display_name": "Python 3 (ipykernel)",
   "language": "python",
   "name": "python3"
  },
  "language_info": {
   "codemirror_mode": {
    "name": "ipython",
    "version": 3
   },
   "file_extension": ".py",
   "mimetype": "text/x-python",
   "name": "python",
   "nbconvert_exporter": "python",
   "pygments_lexer": "ipython3",
   "version": "3.8.5"
  }
 },
 "nbformat": 4,
 "nbformat_minor": 5
}
